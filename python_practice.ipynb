{
 "cells": [
  {
   "cell_type": "code",
   "execution_count": 44,
   "id": "9e9f50a5-01f1-4ca8-9222-5ff70550ede2",
   "metadata": {},
   "outputs": [
    {
     "name": "stdout",
     "output_type": "stream",
     "text": [
      "                                                 Nmae\n",
      "0                                                HOME\n",
      "1                                             CATALOG\n",
      "2                                                APIs\n",
      "3                                              SECTOR\n",
      "4                                  CHIEF DATA OFFICER\n",
      "5                                             METRICS\n",
      "6                                    Login | Register\n",
      "7                                          Dashboard \n",
      "8   User\\n   \\n                    Logout\\n       ...\n",
      "9                                        About Portal\n",
      "10                                       Terms of Use\n",
      "11                                           Policies\n"
     ]
    }
   ],
   "source": [
    "import requests\n",
    "import pandas\n",
    "from bs4 import BeautifulSoup\n",
    "response = requests.get('https://www.data.gov.in/search?title=crime')\n",
    "# print(response)\n",
    "\n",
    "soup = BeautifulSoup(response.content, 'html.parser')\n",
    "# print(soup)\n",
    "\n",
    "data = soup.find_all('li', class_=\"nav-item\")\n",
    "raw = []\n",
    "for i in data[0:12]:\n",
    "    d = i.get_text()\n",
    "    raw.append(d)\n",
    "# print(raw)\n",
    "dic ={\"Nmae\": raw}\n",
    "df = pandas.DataFrame(dic)\n",
    "\n",
    "print(df)\n",
    " "
   ]
  },
  {
   "cell_type": "code",
   "execution_count": 44,
   "id": "b415083a-a78e-4f6e-86df-0bf22e4adbd6",
   "metadata": {},
   "outputs": [
    {
     "name": "stdout",
     "output_type": "stream",
     "text": [
      "                                                 Nmae\n",
      "0                                                HOME\n",
      "1                                             CATALOG\n",
      "2                                                APIs\n",
      "3                                              SECTOR\n",
      "4                                  CHIEF DATA OFFICER\n",
      "5                                             METRICS\n",
      "6                                    Login | Register\n",
      "7                                          Dashboard \n",
      "8   User\\n   \\n                    Logout\\n       ...\n",
      "9                                        About Portal\n",
      "10                                       Terms of Use\n",
      "11                                           Policies\n"
     ]
    }
   ],
   "source": [
    "import requests\n",
    "import pandas\n",
    "from bs4 import BeautifulSoup\n",
    "response = requests.get('https://www.data.gov.in/search?title=crime')\n",
    "# print(response)\n",
    "\n",
    "soup = BeautifulSoup(response.content, 'html.parser')\n",
    "# print(soup)\n",
    "\n",
    "data = soup.find_all('li', class_=\"nav-item\")\n",
    "raw = []\n",
    "for i in data[0:12]:\n",
    "    d = i.get_text()\n",
    "    raw.append(d)\n",
    "# print(raw)\n",
    "dic ={\"Nmae\": raw}\n",
    "df = pandas.DataFrame(dic)\n",
    "\n",
    "print(df)\n",
    " "
   ]
  },
  {
   "cell_type": "code",
   "execution_count": 5,
   "id": "227dba7b-c203-49c4-a7d7-efa1e9ae9e2b",
   "metadata": {},
   "outputs": [
    {
     "name": "stdout",
     "output_type": "stream",
     "text": [
      "105 μs ± 14.2 μs per loop (mean ± std. dev. of 7 runs, 10,000 loops each)\n"
     ]
    }
   ],
   "source": [
    "l = range(1000)\n",
    "%timeit [i**2 for i  in l]"
   ]
  },
  {
   "cell_type": "code",
   "execution_count": 11,
   "id": "c58484b4-4ce3-4d13-a800-521a5fec33b9",
   "metadata": {},
   "outputs": [
    {
     "name": "stdout",
     "output_type": "stream",
     "text": [
      "2.46 μs ± 150 ns per loop (mean ± std. dev. of 7 runs, 100,000 loops each)\n"
     ]
    }
   ],
   "source": [
    "import numpy as np\n",
    "l = np.arange(1000)\n",
    "%timeit l**2"
   ]
  },
  {
   "cell_type": "code",
   "execution_count": 21,
   "id": "1a16d503-178d-472d-9d99-4c72319b2c0b",
   "metadata": {},
   "outputs": [
    {
     "name": "stdout",
     "output_type": "stream",
     "text": [
      "[0 1 2 3 4 5 5 6 8 9]\n"
     ]
    }
   ],
   "source": [
    "import numpy as np\n",
    "a =  np.array([2,3,5,6,9,1,8,4,5,0])\n",
    "a = np.sort(a)\n",
    "print(a)"
   ]
  },
  {
   "cell_type": "code",
   "execution_count": 27,
   "id": "ba285e61-eecc-43a4-a750-eb81f37c66ab",
   "metadata": {},
   "outputs": [
    {
     "name": "stdout",
     "output_type": "stream",
     "text": [
      "{1, 3, 4, 5, 7, 8}\n"
     ]
    }
   ],
   "source": [
    "import numpy as np\n",
    "a = set(np.random.randint(0,10,10))\n",
    "print(a)"
   ]
  },
  {
   "cell_type": "code",
   "execution_count": 37,
   "id": "922f9eca-bd95-498f-989e-2cc45e27a5c2",
   "metadata": {},
   "outputs": [
    {
     "name": "stdout",
     "output_type": "stream",
     "text": [
      "[8 0 8 4]\n",
      "[ 5 -1  7  1  7  5  7  9 -1 11  1 -1 -1  7 17]\n"
     ]
    }
   ],
   "source": [
    "import numpy as np\n",
    "a = np.random.randint(0,20,15)\n",
    "mask = a%2 == 0\n",
    "extract_a = a[mask]\n",
    "print(extract_a)\n",
    "\n",
    "a[mask] =-1\n",
    "print(a)"
   ]
  },
  {
   "cell_type": "code",
   "execution_count": 45,
   "id": "bdffbc38-1c06-4aa9-902d-bb1a791c4086",
   "metadata": {},
   "outputs": [
    {
     "data": {
      "image/png": "[encoded data removed]",
      "text/plain": [
       "<Figure size 640x480 with 1 Axes>"
      ]
     },
     "metadata": {},
     "output_type": "display_data"
    }
   ],
   "source": [
    "import matplotlib.pyplot as plt\n",
    "plt.plot([2,4,6,8,4,6])\n",
    "plt.ylabel(\"numbers\")\n",
    "plt.xlabel(\"indices\")\n",
    "plt.title(\"myplot\")\n",
    "plt.show()\n"
   ]
  },
  {
   "cell_type": "code",
   "execution_count": 61,
   "id": "48008d44-d17b-41f9-b1ac-9192b14f7900",
   "metadata": {},
   "outputs": [
    {
     "data": {
      "image/png": "[encoded data removed]",
      "text/plain": [
       "<Figure size 640x480 with 1 Axes>"
      ]
     },
     "metadata": {},
     "output_type": "display_data"
    }
   ],
   "source": [
    "import matplotlib.pyplot as plt\n",
    "\n",
    "plt.plot([0,1,2,3,4,5,], [0,2, 4, 6, 8, 4])\n",
    "plt.ylabel(\"numbers\")\n",
    "plt.xlabel(\"indices\")\n",
    "plt.grid()\n",
    "plt.title(\"myplot\")\n",
    "plt.show()"
   ]
  },
  {
   "cell_type": "code",
   "execution_count": 79,
   "id": "344e5e64-1527-4d46-9775-43b94414f40e",
   "metadata": {},
   "outputs": [
    {
     "data": {
      "image/png": "[encoded data removed]",
      "text/plain": [
       "<Figure size 640x480 with 1 Axes>"
      ]
     },
     "metadata": {},
     "output_type": "display_data"
    }
   ],
   "source": [
    "import matplotlib.pyplot as plt\n",
    "\n",
    "plt.plot([0,1,2,3,4,5,], [0,2, 4, 6, 8, 4], 'ro')\n",
    "plt.ylabel(\"numbers\")\n",
    "plt.xlabel(\"indices\")\n",
    "plt.grid()\n",
    "plt.title(\"myplot\")\n",
    "plt.show()"
   ]
  },
  {
   "cell_type": "code",
   "execution_count": 9,
   "id": "10e86d19-27bb-41ed-84df-8b9cb064e570",
   "metadata": {},
   "outputs": [
    {
     "data": {
      "image/png": "[encoded data removed]",
      "text/plain": [
       "<Figure size 640x480 with 1 Axes>"
      ]
     },
     "metadata": {},
     "output_type": "display_data"
    }
   ],
   "source": [
    "import numpy as np\n",
    "import matplotlib.pyplot as plt\n",
    "\n",
    "a = np.arange(0,5,0.2)\n",
    "def plot_graph(a):\n",
    "    plt.grid()\n",
    "    plt.plot(a, a**2, \"b--\", label='^2')\n",
    "    plt.plot(a, a**2.2, \"rs\", label='^2.2')\n",
    "    plt.plot(a, a**2.5, \"g^\", label='^2.5')\n",
    "    plt.legend()\n",
    "    plt.show()\n",
    "\n",
    "plot_graph(a)"
   ]
  },
  {
   "cell_type": "code",
   "execution_count": 160,
   "id": "7015807e-9c80-451b-8eae-44507ad923c8",
   "metadata": {},
   "outputs": [
    {
     "data": {
      "image/png": "[encoded data removed]",
      "text/plain": [
       "<Figure size 640x480 with 1 Axes>"
      ]
     },
     "metadata": {},
     "output_type": "display_data"
    }
   ],
   "source": [
    "x1 = [1,2,3,4]\n",
    "y1 = [1,4,9,16]\n",
    "x2 = [1,2,3,4]\n",
    "y2 = [2,4,6,8]\n",
    "\n",
    "lines = plt.plot(x1,y1, x2,y2)\n",
    "plt.setp(lines[0], color = 'b', linewidth = 1.0, label = 'lines[0]')\n",
    "plt.setp(lines[1], color = 'r', linewidth = 1.0, label = 'lines[1]')\n",
    "plt.legend()\n",
    "plt.grid()\n",
    "plt.show()\n"
   ]
  },
  {
   "cell_type": "code",
   "execution_count": null,
   "id": "6f2b2518-0c6e-4c06-b7a8-39bc5638362f",
   "metadata": {},
   "outputs": [],
   "source": []
  },
  {
   "cell_type": "code",
   "execution_count": 36,
   "id": "5a2dc0b0-4205-4c61-96bb-6edf50f4b264",
   "metadata": {},
   "outputs": [
    {
     "name": "stderr",
     "output_type": "stream",
     "text": [
      "<>:2: SyntaxWarning: invalid escape sequence '\\P'\n",
      "<>:2: SyntaxWarning: invalid escape sequence '\\P'\n",
      "C:\\Users\\USER\\AppData\\Local\\Temp\\ipykernel_8996\\398015160.py:2: SyntaxWarning: invalid escape sequence '\\P'\n",
      "  df = pd.read_csv(\"C:\\Python learning\\Files\\solar_generation_1kW.csv\")\n"
     ]
    },
    {
     "data": {
      "text/html": [
       "<div>\n",
       "<style scoped>\n",
       "    .dataframe tbody tr th:only-of-type {\n",
       "        vertical-align: middle;\n",
       "    }\n",
       "\n",
       "    .dataframe tbody tr th {\n",
       "        vertical-align: top;\n",
       "    }\n",
       "\n",
       "    .dataframe thead th {\n",
       "        text-align: right;\n",
       "    }\n",
       "</style>\n",
       "<table border=\"1\" class=\"dataframe\">\n",
       "  <thead>\n",
       "    <tr style=\"text-align: right;\">\n",
       "      <th></th>\n",
       "      <th>Hours since 00:00 Jan 1</th>\n",
       "      <th>Hourly Data: AC inverter power (W)</th>\n",
       "    </tr>\n",
       "  </thead>\n",
       "  <tbody>\n",
       "    <tr>\n",
       "      <th>0</th>\n",
       "      <td>0.5</td>\n",
       "      <td>0.0</td>\n",
       "    </tr>\n",
       "    <tr>\n",
       "      <th>1</th>\n",
       "      <td>1.5</td>\n",
       "      <td>0.0</td>\n",
       "    </tr>\n",
       "    <tr>\n",
       "      <th>2</th>\n",
       "      <td>2.5</td>\n",
       "      <td>0.0</td>\n",
       "    </tr>\n",
       "    <tr>\n",
       "      <th>3</th>\n",
       "      <td>3.5</td>\n",
       "      <td>0.0</td>\n",
       "    </tr>\n",
       "    <tr>\n",
       "      <th>4</th>\n",
       "      <td>4.5</td>\n",
       "      <td>0.0</td>\n",
       "    </tr>\n",
       "    <tr>\n",
       "      <th>...</th>\n",
       "      <td>...</td>\n",
       "      <td>...</td>\n",
       "    </tr>\n",
       "    <tr>\n",
       "      <th>8755</th>\n",
       "      <td>8755.5</td>\n",
       "      <td>0.0</td>\n",
       "    </tr>\n",
       "    <tr>\n",
       "      <th>8756</th>\n",
       "      <td>8756.5</td>\n",
       "      <td>0.0</td>\n",
       "    </tr>\n",
       "    <tr>\n",
       "      <th>8757</th>\n",
       "      <td>8757.5</td>\n",
       "      <td>0.0</td>\n",
       "    </tr>\n",
       "    <tr>\n",
       "      <th>8758</th>\n",
       "      <td>8758.5</td>\n",
       "      <td>0.0</td>\n",
       "    </tr>\n",
       "    <tr>\n",
       "      <th>8759</th>\n",
       "      <td>8759.5</td>\n",
       "      <td>0.0</td>\n",
       "    </tr>\n",
       "  </tbody>\n",
       "</table>\n",
       "<p>8760 rows × 2 columns</p>\n",
       "</div>"
      ],
      "text/plain": [
       "      Hours since 00:00 Jan 1  Hourly Data: AC inverter power (W)\n",
       "0                         0.5                                 0.0\n",
       "1                         1.5                                 0.0\n",
       "2                         2.5                                 0.0\n",
       "3                         3.5                                 0.0\n",
       "4                         4.5                                 0.0\n",
       "...                       ...                                 ...\n",
       "8755                   8755.5                                 0.0\n",
       "8756                   8756.5                                 0.0\n",
       "8757                   8757.5                                 0.0\n",
       "8758                   8758.5                                 0.0\n",
       "8759                   8759.5                                 0.0\n",
       "\n",
       "[8760 rows x 2 columns]"
      ]
     },
     "execution_count": 36,
     "metadata": {},
     "output_type": "execute_result"
    }
   ],
   "source": [
    "import pandas as pd\n",
    "df = pd.read_csv(\"C:\\Python learning\\Files\\solar_generation_1kW.csv\")\n",
    "df"
   ]
  },
  {
   "cell_type": "code",
   "execution_count": 44,
   "id": "faca36cf-2469-43e1-b5db-b1dcb0536927",
   "metadata": {},
   "outputs": [
    {
     "data": {
      "text/html": [
       "<div>\n",
       "<style scoped>\n",
       "    .dataframe tbody tr th:only-of-type {\n",
       "        vertical-align: middle;\n",
       "    }\n",
       "\n",
       "    .dataframe tbody tr th {\n",
       "        vertical-align: top;\n",
       "    }\n",
       "\n",
       "    .dataframe thead th {\n",
       "        text-align: right;\n",
       "    }\n",
       "</style>\n",
       "<table border=\"1\" class=\"dataframe\">\n",
       "  <thead>\n",
       "    <tr style=\"text-align: right;\">\n",
       "      <th></th>\n",
       "      <th>Hours since 00:00 Jan 1</th>\n",
       "      <th>Hourly Data: AC inverter power (W)</th>\n",
       "    </tr>\n",
       "  </thead>\n",
       "  <tbody>\n",
       "    <tr>\n",
       "      <th>0</th>\n",
       "      <td>0.5</td>\n",
       "      <td>0.00000</td>\n",
       "    </tr>\n",
       "    <tr>\n",
       "      <th>1</th>\n",
       "      <td>1.5</td>\n",
       "      <td>0.00000</td>\n",
       "    </tr>\n",
       "    <tr>\n",
       "      <th>2</th>\n",
       "      <td>2.5</td>\n",
       "      <td>0.00000</td>\n",
       "    </tr>\n",
       "    <tr>\n",
       "      <th>3</th>\n",
       "      <td>3.5</td>\n",
       "      <td>0.00000</td>\n",
       "    </tr>\n",
       "    <tr>\n",
       "      <th>4</th>\n",
       "      <td>4.5</td>\n",
       "      <td>0.00000</td>\n",
       "    </tr>\n",
       "    <tr>\n",
       "      <th>5</th>\n",
       "      <td>5.5</td>\n",
       "      <td>0.00000</td>\n",
       "    </tr>\n",
       "    <tr>\n",
       "      <th>6</th>\n",
       "      <td>6.5</td>\n",
       "      <td>0.00000</td>\n",
       "    </tr>\n",
       "    <tr>\n",
       "      <th>7</th>\n",
       "      <td>7.5</td>\n",
       "      <td>19.88970</td>\n",
       "    </tr>\n",
       "    <tr>\n",
       "      <th>8</th>\n",
       "      <td>8.5</td>\n",
       "      <td>253.43100</td>\n",
       "    </tr>\n",
       "    <tr>\n",
       "      <th>9</th>\n",
       "      <td>9.5</td>\n",
       "      <td>391.36000</td>\n",
       "    </tr>\n",
       "    <tr>\n",
       "      <th>10</th>\n",
       "      <td>10.5</td>\n",
       "      <td>516.50600</td>\n",
       "    </tr>\n",
       "    <tr>\n",
       "      <th>11</th>\n",
       "      <td>11.5</td>\n",
       "      <td>525.32900</td>\n",
       "    </tr>\n",
       "    <tr>\n",
       "      <th>12</th>\n",
       "      <td>12.5</td>\n",
       "      <td>587.30900</td>\n",
       "    </tr>\n",
       "    <tr>\n",
       "      <th>13</th>\n",
       "      <td>13.5</td>\n",
       "      <td>614.50900</td>\n",
       "    </tr>\n",
       "    <tr>\n",
       "      <th>14</th>\n",
       "      <td>14.5</td>\n",
       "      <td>458.63500</td>\n",
       "    </tr>\n",
       "    <tr>\n",
       "      <th>15</th>\n",
       "      <td>15.5</td>\n",
       "      <td>351.10000</td>\n",
       "    </tr>\n",
       "    <tr>\n",
       "      <th>16</th>\n",
       "      <td>16.5</td>\n",
       "      <td>151.15300</td>\n",
       "    </tr>\n",
       "    <tr>\n",
       "      <th>17</th>\n",
       "      <td>17.5</td>\n",
       "      <td>0.00000</td>\n",
       "    </tr>\n",
       "    <tr>\n",
       "      <th>18</th>\n",
       "      <td>18.5</td>\n",
       "      <td>0.00000</td>\n",
       "    </tr>\n",
       "    <tr>\n",
       "      <th>19</th>\n",
       "      <td>19.5</td>\n",
       "      <td>0.00000</td>\n",
       "    </tr>\n",
       "    <tr>\n",
       "      <th>20</th>\n",
       "      <td>20.5</td>\n",
       "      <td>0.00000</td>\n",
       "    </tr>\n",
       "    <tr>\n",
       "      <th>21</th>\n",
       "      <td>21.5</td>\n",
       "      <td>0.00000</td>\n",
       "    </tr>\n",
       "    <tr>\n",
       "      <th>22</th>\n",
       "      <td>22.5</td>\n",
       "      <td>0.00000</td>\n",
       "    </tr>\n",
       "    <tr>\n",
       "      <th>23</th>\n",
       "      <td>23.5</td>\n",
       "      <td>0.00000</td>\n",
       "    </tr>\n",
       "    <tr>\n",
       "      <th>24</th>\n",
       "      <td>24.5</td>\n",
       "      <td>0.00000</td>\n",
       "    </tr>\n",
       "    <tr>\n",
       "      <th>25</th>\n",
       "      <td>25.5</td>\n",
       "      <td>0.00000</td>\n",
       "    </tr>\n",
       "    <tr>\n",
       "      <th>26</th>\n",
       "      <td>26.5</td>\n",
       "      <td>0.00000</td>\n",
       "    </tr>\n",
       "    <tr>\n",
       "      <th>27</th>\n",
       "      <td>27.5</td>\n",
       "      <td>0.00000</td>\n",
       "    </tr>\n",
       "    <tr>\n",
       "      <th>28</th>\n",
       "      <td>28.5</td>\n",
       "      <td>0.00000</td>\n",
       "    </tr>\n",
       "    <tr>\n",
       "      <th>29</th>\n",
       "      <td>29.5</td>\n",
       "      <td>0.00000</td>\n",
       "    </tr>\n",
       "    <tr>\n",
       "      <th>30</th>\n",
       "      <td>30.5</td>\n",
       "      <td>0.00000</td>\n",
       "    </tr>\n",
       "    <tr>\n",
       "      <th>31</th>\n",
       "      <td>31.5</td>\n",
       "      <td>8.58858</td>\n",
       "    </tr>\n",
       "    <tr>\n",
       "      <th>32</th>\n",
       "      <td>32.5</td>\n",
       "      <td>137.25100</td>\n",
       "    </tr>\n",
       "    <tr>\n",
       "      <th>33</th>\n",
       "      <td>33.5</td>\n",
       "      <td>153.36900</td>\n",
       "    </tr>\n",
       "    <tr>\n",
       "      <th>34</th>\n",
       "      <td>34.5</td>\n",
       "      <td>183.96000</td>\n",
       "    </tr>\n",
       "    <tr>\n",
       "      <th>35</th>\n",
       "      <td>35.5</td>\n",
       "      <td>397.08200</td>\n",
       "    </tr>\n",
       "    <tr>\n",
       "      <th>36</th>\n",
       "      <td>36.5</td>\n",
       "      <td>248.47200</td>\n",
       "    </tr>\n",
       "    <tr>\n",
       "      <th>37</th>\n",
       "      <td>37.5</td>\n",
       "      <td>233.45700</td>\n",
       "    </tr>\n",
       "    <tr>\n",
       "      <th>38</th>\n",
       "      <td>38.5</td>\n",
       "      <td>233.21100</td>\n",
       "    </tr>\n",
       "    <tr>\n",
       "      <th>39</th>\n",
       "      <td>39.5</td>\n",
       "      <td>203.95600</td>\n",
       "    </tr>\n",
       "    <tr>\n",
       "      <th>40</th>\n",
       "      <td>40.5</td>\n",
       "      <td>167.73000</td>\n",
       "    </tr>\n",
       "    <tr>\n",
       "      <th>41</th>\n",
       "      <td>41.5</td>\n",
       "      <td>0.00000</td>\n",
       "    </tr>\n",
       "    <tr>\n",
       "      <th>42</th>\n",
       "      <td>42.5</td>\n",
       "      <td>0.00000</td>\n",
       "    </tr>\n",
       "    <tr>\n",
       "      <th>43</th>\n",
       "      <td>43.5</td>\n",
       "      <td>0.00000</td>\n",
       "    </tr>\n",
       "    <tr>\n",
       "      <th>44</th>\n",
       "      <td>44.5</td>\n",
       "      <td>0.00000</td>\n",
       "    </tr>\n",
       "    <tr>\n",
       "      <th>45</th>\n",
       "      <td>45.5</td>\n",
       "      <td>0.00000</td>\n",
       "    </tr>\n",
       "    <tr>\n",
       "      <th>46</th>\n",
       "      <td>46.5</td>\n",
       "      <td>0.00000</td>\n",
       "    </tr>\n",
       "    <tr>\n",
       "      <th>47</th>\n",
       "      <td>47.5</td>\n",
       "      <td>0.00000</td>\n",
       "    </tr>\n",
       "    <tr>\n",
       "      <th>48</th>\n",
       "      <td>48.5</td>\n",
       "      <td>0.00000</td>\n",
       "    </tr>\n",
       "    <tr>\n",
       "      <th>49</th>\n",
       "      <td>49.5</td>\n",
       "      <td>0.00000</td>\n",
       "    </tr>\n",
       "    <tr>\n",
       "      <th>50</th>\n",
       "      <td>50.5</td>\n",
       "      <td>0.00000</td>\n",
       "    </tr>\n",
       "  </tbody>\n",
       "</table>\n",
       "</div>"
      ],
      "text/plain": [
       "    Hours since 00:00 Jan 1  Hourly Data: AC inverter power (W)\n",
       "0                       0.5                             0.00000\n",
       "1                       1.5                             0.00000\n",
       "2                       2.5                             0.00000\n",
       "3                       3.5                             0.00000\n",
       "4                       4.5                             0.00000\n",
       "5                       5.5                             0.00000\n",
       "6                       6.5                             0.00000\n",
       "7                       7.5                            19.88970\n",
       "8                       8.5                           253.43100\n",
       "9                       9.5                           391.36000\n",
       "10                     10.5                           516.50600\n",
       "11                     11.5                           525.32900\n",
       "12                     12.5                           587.30900\n",
       "13                     13.5                           614.50900\n",
       "14                     14.5                           458.63500\n",
       "15                     15.5                           351.10000\n",
       "16                     16.5                           151.15300\n",
       "17                     17.5                             0.00000\n",
       "18                     18.5                             0.00000\n",
       "19                     19.5                             0.00000\n",
       "20                     20.5                             0.00000\n",
       "21                     21.5                             0.00000\n",
       "22                     22.5                             0.00000\n",
       "23                     23.5                             0.00000\n",
       "24                     24.5                             0.00000\n",
       "25                     25.5                             0.00000\n",
       "26                     26.5                             0.00000\n",
       "27                     27.5                             0.00000\n",
       "28                     28.5                             0.00000\n",
       "29                     29.5                             0.00000\n",
       "30                     30.5                             0.00000\n",
       "31                     31.5                             8.58858\n",
       "32                     32.5                           137.25100\n",
       "33                     33.5                           153.36900\n",
       "34                     34.5                           183.96000\n",
       "35                     35.5                           397.08200\n",
       "36                     36.5                           248.47200\n",
       "37                     37.5                           233.45700\n",
       "38                     38.5                           233.21100\n",
       "39                     39.5                           203.95600\n",
       "40                     40.5                           167.73000\n",
       "41                     41.5                             0.00000\n",
       "42                     42.5                             0.00000\n",
       "43                     43.5                             0.00000\n",
       "44                     44.5                             0.00000\n",
       "45                     45.5                             0.00000\n",
       "46                     46.5                             0.00000\n",
       "47                     47.5                             0.00000\n",
       "48                     48.5                             0.00000\n",
       "49                     49.5                             0.00000\n",
       "50                     50.5                             0.00000"
      ]
     },
     "execution_count": 44,
     "metadata": {},
     "output_type": "execute_result"
    }
   ],
   "source": [
    "data = df[0:51]\n",
    "data\n",
    "\n"
   ]
  },
  {
   "cell_type": "code",
   "execution_count": 48,
   "id": "2afdbb17-47ec-413a-afbd-20724fc887a0",
   "metadata": {},
   "outputs": [
    {
     "data": {
      "text/plain": [
       "50.5"
      ]
     },
     "execution_count": 48,
     "metadata": {},
     "output_type": "execute_result"
    }
   ],
   "source": [
    "data['Hours since 00:00 Jan 1'].max()"
   ]
  },
  {
   "cell_type": "code",
   "execution_count": 50,
   "id": "8069452e-4c5f-4e8f-861b-44da10e1dbf7",
   "metadata": {},
   "outputs": [
    {
     "data": {
      "text/plain": [
       "0.5"
      ]
     },
     "execution_count": 50,
     "metadata": {},
     "output_type": "execute_result"
    }
   ],
   "source": [
    "data['Hours since 00:00 Jan 1'].min()"
   ]
  },
  {
   "cell_type": "code",
   "execution_count": 72,
   "id": "7fae34d6-1d59-4a03-ba24-36a56602bec3",
   "metadata": {},
   "outputs": [
    {
     "data": {
      "text/plain": [
       "count    51.000000\n",
       "mean     25.500000\n",
       "std      14.866069\n",
       "min       0.500000\n",
       "25%      13.000000\n",
       "50%      25.500000\n",
       "75%      38.000000\n",
       "max      50.500000\n",
       "Name: Hours since 00:00 Jan 1, dtype: float64"
      ]
     },
     "execution_count": 72,
     "metadata": {},
     "output_type": "execute_result"
    }
   ],
   "source": [
    "data['Hours since 00:00 Jan 1'].describe()"
   ]
  },
  {
   "cell_type": "code",
   "execution_count": 54,
   "id": "c092727e-d698-49aa-ab7b-3fa329511d42",
   "metadata": {},
   "outputs": [
    {
     "data": {
      "text/plain": [
       "Hours since 00:00 Jan 1                14.866069\n",
       "Hourly Data: AC inverter power (W)    181.437084\n",
       "dtype: float64"
      ]
     },
     "execution_count": 54,
     "metadata": {},
     "output_type": "execute_result"
    }
   ],
   "source": [
    "data.std()"
   ]
  },
  {
   "cell_type": "code",
   "execution_count": 80,
   "id": "5634de33-6a74-4e2c-8da3-eccdf7410059",
   "metadata": {},
   "outputs": [
    {
     "data": {
      "text/plain": [
       "(count    51.000000\n",
       " mean     25.500000\n",
       " std      14.866069\n",
       " min       0.500000\n",
       " 25%      13.000000\n",
       " 50%      25.500000\n",
       " 75%      38.000000\n",
       " max      50.500000\n",
       " Name: Hours since 00:00 Jan 1, dtype: float64,\n",
       " count     51.000000\n",
       " mean     114.437221\n",
       " std      181.437084\n",
       " min        0.000000\n",
       " 25%        0.000000\n",
       " 50%        0.000000\n",
       " 75%      193.958000\n",
       " max      614.509000\n",
       " Name: Hourly Data: AC inverter power (W), dtype: float64)"
      ]
     },
     "execution_count": 80,
     "metadata": {},
     "output_type": "execute_result"
    }
   ],
   "source": [
    "data['Hours since 00:00 Jan 1'].describe(), data['Hourly Data: AC inverter power (W)'].describe()"
   ]
  },
  {
   "cell_type": "code",
   "execution_count": 110,
   "id": "a59ca54b-603e-4739-b2da-9f1977264a67",
   "metadata": {},
   "outputs": [
    {
     "data": {
      "text/html": [
       "<div>\n",
       "<style scoped>\n",
       "    .dataframe tbody tr th:only-of-type {\n",
       "        vertical-align: middle;\n",
       "    }\n",
       "\n",
       "    .dataframe tbody tr th {\n",
       "        vertical-align: top;\n",
       "    }\n",
       "\n",
       "    .dataframe thead th {\n",
       "        text-align: right;\n",
       "    }\n",
       "</style>\n",
       "<table border=\"1\" class=\"dataframe\">\n",
       "  <thead>\n",
       "    <tr style=\"text-align: right;\">\n",
       "      <th></th>\n",
       "      <th>Hours since 00:00 Jan 1</th>\n",
       "      <th>Hourly Data: AC inverter power (W)</th>\n",
       "    </tr>\n",
       "  </thead>\n",
       "  <tbody>\n",
       "    <tr>\n",
       "      <th>10</th>\n",
       "      <td>10.5</td>\n",
       "      <td>516.506</td>\n",
       "    </tr>\n",
       "    <tr>\n",
       "      <th>11</th>\n",
       "      <td>11.5</td>\n",
       "      <td>525.329</td>\n",
       "    </tr>\n",
       "    <tr>\n",
       "      <th>12</th>\n",
       "      <td>12.5</td>\n",
       "      <td>587.309</td>\n",
       "    </tr>\n",
       "    <tr>\n",
       "      <th>13</th>\n",
       "      <td>13.5</td>\n",
       "      <td>614.509</td>\n",
       "    </tr>\n",
       "    <tr>\n",
       "      <th>14</th>\n",
       "      <td>14.5</td>\n",
       "      <td>458.635</td>\n",
       "    </tr>\n",
       "  </tbody>\n",
       "</table>\n",
       "</div>"
      ],
      "text/plain": [
       "    Hours since 00:00 Jan 1  Hourly Data: AC inverter power (W)\n",
       "10                     10.5                             516.506\n",
       "11                     11.5                             525.329\n",
       "12                     12.5                             587.309\n",
       "13                     13.5                             614.509\n",
       "14                     14.5                             458.635"
      ]
     },
     "execution_count": 110,
     "metadata": {},
     "output_type": "execute_result"
    }
   ],
   "source": [
    "data[data['Hourly Data: AC inverter power (W)'] >= 400]"
   ]
  },
  {
   "cell_type": "code",
   "execution_count": 98,
   "id": "fd70aa44-0e85-427a-b561-efafdc1b37ff",
   "metadata": {},
   "outputs": [
    {
     "data": {
      "text/plain": [
       "Index(['Hours since 00:00 Jan 1', 'Hourly Data: AC inverter power (W)'], dtype='object')"
      ]
     },
     "execution_count": 98,
     "metadata": {},
     "output_type": "execute_result"
    }
   ],
   "source": [
    "data.columns"
   ]
  },
  {
   "cell_type": "code",
   "execution_count": 100,
   "id": "00295298-736f-4c51-88de-bcc6f52ae179",
   "metadata": {},
   "outputs": [
    {
     "data": {
      "text/plain": [
       "0      0.5\n",
       "1      1.5\n",
       "2      2.5\n",
       "3      3.5\n",
       "4      4.5\n",
       "5      5.5\n",
       "6      6.5\n",
       "7      7.5\n",
       "8      8.5\n",
       "9      9.5\n",
       "10    10.5\n",
       "11    11.5\n",
       "12    12.5\n",
       "13    13.5\n",
       "14    14.5\n",
       "15    15.5\n",
       "16    16.5\n",
       "17    17.5\n",
       "18    18.5\n",
       "19    19.5\n",
       "20    20.5\n",
       "21    21.5\n",
       "22    22.5\n",
       "23    23.5\n",
       "24    24.5\n",
       "25    25.5\n",
       "26    26.5\n",
       "27    27.5\n",
       "28    28.5\n",
       "29    29.5\n",
       "30    30.5\n",
       "31    31.5\n",
       "32    32.5\n",
       "33    33.5\n",
       "34    34.5\n",
       "35    35.5\n",
       "36    36.5\n",
       "37    37.5\n",
       "38    38.5\n",
       "39    39.5\n",
       "40    40.5\n",
       "41    41.5\n",
       "42    42.5\n",
       "43    43.5\n",
       "44    44.5\n",
       "45    45.5\n",
       "46    46.5\n",
       "47    47.5\n",
       "48    48.5\n",
       "49    49.5\n",
       "50    50.5\n",
       "Name: Hours since 00:00 Jan 1, dtype: float64"
      ]
     },
     "execution_count": 100,
     "metadata": {},
     "output_type": "execute_result"
    }
   ],
   "source": [
    "data['Hours since 00:00 Jan 1']"
   ]
  },
  {
   "cell_type": "code",
   "execution_count": 136,
   "id": "279a0c7a-98ee-49a9-a98f-c6860fa26c7c",
   "metadata": {},
   "outputs": [],
   "source": [
    "\n",
    "data.to_excel('new.xlsx', sheet_name ='weather', index = False)"
   ]
  },
  {
   "cell_type": "code",
   "execution_count": 116,
   "id": "9c5a1a8e-f8fb-4bd5-ba0f-e3e5d30e3b6a",
   "metadata": {},
   "outputs": [],
   "source": [
    "data.to_csv('new.csv', index=False)"
   ]
  },
  {
   "cell_type": "code",
   "execution_count": 13,
   "id": "26783520-7d37-4cfc-9d82-cd9e71eadd3f",
   "metadata": {},
   "outputs": [
    {
     "name": "stdout",
     "output_type": "stream",
     "text": [
      "This function plots three power functions: a^2, a^2.2, and a^2.5.\n",
      "        Parameters: None\n",
      "        Returns: None\n"
     ]
    },
    {
     "data": {
      "image/png": "[encoded data removed]",
      "text/plain": [
       "<Figure size 640x480 with 1 Axes>"
      ]
     },
     "metadata": {},
     "output_type": "display_data"
    }
   ],
   "source": [
    "import numpy as np\n",
    "import matplotlib.pyplot as plt\n",
    "\n",
    "class Draw:\n",
    "    def __init__(self):\n",
    "        self.a = np.arange(0, 5, 0.2)\n",
    "\n",
    "    def plot_graph(self):\n",
    "        \"\"\"This function plots three power functions: a^2, a^2.2, and a^2.5.\n",
    "        Parameters: None\n",
    "        Returns: None\"\"\"\n",
    "        plt.grid()\n",
    "        plt.plot(self.a, self.a**2, \"b--\", label='^2')\n",
    "        plt.plot(self.a, self.a**2.2, \"rs\", label='^2.2')\n",
    "        plt.plot(self.a, self.a**2.5, \"g^\", label='^2.5')\n",
    "        plt.legend()\n",
    "        plt.show()\n",
    "\n",
    "    def print_na(self):\n",
    "        print(self.plot_graph.__doc__)\n",
    "        self.plot_graph()\n",
    "\n",
    "d = Draw()\n",
    "d.print_na()\n"
   ]
  },
  {
   "cell_type": "code",
   "execution_count": 21,
   "id": "d4b5f844-ed61-49c8-93c7-1f0cef6e69d2",
   "metadata": {},
   "outputs": [
    {
     "name": "stdout",
     "output_type": "stream",
     "text": [
      "This function plots three power functions: a^2, a^2.2, and a^2.5.\n",
      "        Parameters: None\n",
      "        Returns: None\n"
     ]
    },
    {
     "data": {
      "image/png": "[encoded data removed]",
      "text/plain": [
       "<Figure size 640x480 with 1 Axes>"
      ]
     },
     "metadata": {},
     "output_type": "display_data"
    },
    {
     "data": {
      "text/plain": [
       "['__class__',\n",
       " '__delattr__',\n",
       " '__dict__',\n",
       " '__dir__',\n",
       " '__doc__',\n",
       " '__eq__',\n",
       " '__format__',\n",
       " '__ge__',\n",
       " '__getattribute__',\n",
       " '__getstate__',\n",
       " '__gt__',\n",
       " '__hash__',\n",
       " '__init__',\n",
       " '__init_subclass__',\n",
       " '__le__',\n",
       " '__lt__',\n",
       " '__module__',\n",
       " '__ne__',\n",
       " '__new__',\n",
       " '__reduce__',\n",
       " '__reduce_ex__',\n",
       " '__repr__',\n",
       " '__setattr__',\n",
       " '__sizeof__',\n",
       " '__str__',\n",
       " '__subclasshook__',\n",
       " '__weakref__',\n",
       " 'a',\n",
       " 'plot_graph',\n",
       " 'print_na']"
      ]
     },
     "execution_count": 21,
     "metadata": {},
     "output_type": "execute_result"
    }
   ],
   "source": [
    "import numpy as np\n",
    "import matplotlib.pyplot as plt\n",
    "\n",
    "class Draw:\n",
    "    def __init__(self):\n",
    "        self.a = np.arange(0, 5, 0.2)\n",
    "\n",
    "    def plot_graph(self):\n",
    "        \"\"\"This function plots three power functions: a^2, a^2.2, and a^2.5.\n",
    "        Parameters: None\n",
    "        Returns: None\"\"\"\n",
    "        plt.grid()\n",
    "        plt.plot(self.a, self.a**2, \"b--\", label='^2')\n",
    "        plt.plot(self.a, self.a**2.2, \"rs\", label='^2.2')\n",
    "        plt.plot(self.a, self.a**2.5, \"g^\", label='^2.5')\n",
    "        plt.legend()\n",
    "        plt.show()\n",
    "\n",
    "    def print_na(self):\n",
    "        print(self.plot_graph.__doc__)\n",
    "        self.plot_graph()\n",
    "\n",
    "d = Draw()\n",
    "d.print_na()\n",
    "dir(d)\n"
   ]
  },
  {
   "cell_type": "code",
   "execution_count": 73,
   "id": "936b7d75-f496-4075-b5e0-7c5bedcc6bf1",
   "metadata": {},
   "outputs": [
    {
     "data": {
      "text/plain": [
       "(1, 2, 3, 4)"
      ]
     },
     "execution_count": 73,
     "metadata": {},
     "output_type": "execute_result"
    }
   ],
   "source": [
    "class FindPositiveNumbers:\n",
    "    # def compare_numbers(self, num):\n",
    "    #     return num > 0\n",
    "        \n",
    "    def find_positive_numbers(self, num_list):\n",
    "        return tuple(filter(lambda X : 0<X<5, num_list))\n",
    "        # return list(filter(self.compare_numbers, num_list))\n",
    "num_list = np.arange(-10, 10)\n",
    "a=FindPositiveNumbers()\n",
    "numpos = a.find_positive_numbers(num_list)\n",
    "numpos\n",
    "\n",
    " "
   ]
  },
  {
   "cell_type": "code",
   "execution_count": 182,
   "id": "977cb65a-97ad-4a74-8dfe-b8097613f789",
   "metadata": {},
   "outputs": [
    {
     "name": "stdout",
     "output_type": "stream",
     "text": [
      "1.851503769143253e-11\n"
     ]
    }
   ],
   "source": [
    "from functools import reduce\n",
    "class Squarenumber:\n",
    "    # def sqaring_numbers(self, num):\n",
    "    #     return num**2\n",
    "    def find_suqare_number(self, num_list):\n",
    "        # listsquares = list(map(self.sqaring_numbers, num_list))\n",
    "        # return list(filter(lambda X : X>25, list(map(self.sqaring_numbers, num_list))))\n",
    "        return reduce(lambda x, y : x/y, list(filter(lambda X : X>35, list(map(lambda X : X**3, num_list)))))\n",
    "        \n",
    "\n",
    "num_list = np.arange(-10, 10)\n",
    "a = Squarenumber()\n",
    "numpos = a.find_suqare_number(num_list)\n",
    "print(numpos)"
   ]
  },
  {
   "cell_type": "code",
   "execution_count": 218,
   "id": "9e7b5354-3433-479c-9d86-aa3732e01048",
   "metadata": {},
   "outputs": [
    {
     "name": "stdout",
     "output_type": "stream",
     "text": [
      "0\n",
      "1\n",
      "1\n",
      "2\n",
      "3\n",
      "5\n",
      "8\n",
      "13\n"
     ]
    }
   ],
   "source": [
    "def fibonaci(num):\n",
    "   return num if num <= 1 else fibonaci(num-1)+ fibonaci(num-2)\n",
    "nums = 8\n",
    "for num in range(nums):\n",
    "  print(fibonaci(num))\n"
   ]
  },
  {
   "cell_type": "code",
   "execution_count": null,
   "id": "db1c7ca3-5d95-42fc-b26d-52f0507ea92b",
   "metadata": {},
   "outputs": [],
   "source": []
  }
 ],
 "metadata": {
  "kernelspec": {
   "display_name": "Python 3 (ipykernel)",
   "language": "python",
   "name": "python3"
  },
  "language_info": {
   "codemirror_mode": {
    "name": "ipython",
    "version": 3
   },
   "file_extension": ".py",
   "mimetype": "text/x-python",
   "name": "python",
   "nbconvert_exporter": "python",
   "pygments_lexer": "ipython3",
   "version": "3.12.4"
  }
 },
 "nbformat": 4,
 "nbformat_minor": 5
}
